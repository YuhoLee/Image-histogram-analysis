{
  "cells": [
    {
      "cell_type": "code",
      "execution_count": null,
      "id": "798dabbb",
      "metadata": {
        "colab": {
          "base_uri": "https://localhost:8080/"
        },
        "id": "798dabbb",
        "outputId": "835e6dd0-363a-4b5f-a772-16d2b4ec3356"
      },
      "outputs": [
        {
          "output_type": "stream",
          "name": "stdout",
          "text": [
            "Requirement already satisfied: opencv-python in /usr/local/lib/python3.7/dist-packages (4.1.2.30)\n",
            "Requirement already satisfied: numpy>=1.14.5 in /usr/local/lib/python3.7/dist-packages (from opencv-python) (1.21.6)\n",
            "Collecting np\n",
            "  Downloading np-1.0.2.tar.gz (7.4 kB)\n",
            "Building wheels for collected packages: np\n",
            "  Building wheel for np (setup.py) ... \u001b[?25l\u001b[?25hdone\n",
            "  Created wheel for np: filename=np-1.0.2-py3-none-any.whl size=13676 sha256=edf804fdf2ae1e1d24de941735565db6d79757d21568dd863ca46118f59f95a5\n",
            "  Stored in directory: /root/.cache/pip/wheels/8d/31/5b/f3f27c678f2b3ad7e29903ed09bb7446717fd4c8b35f53973a\n",
            "Successfully built np\n",
            "Installing collected packages: np\n",
            "Successfully installed np-1.0.2\n",
            "Requirement already satisfied: matplotlib in /usr/local/lib/python3.7/dist-packages (3.2.2)\n",
            "Requirement already satisfied: cycler>=0.10 in /usr/local/lib/python3.7/dist-packages (from matplotlib) (0.11.0)\n",
            "Requirement already satisfied: numpy>=1.11 in /usr/local/lib/python3.7/dist-packages (from matplotlib) (1.21.6)\n",
            "Requirement already satisfied: python-dateutil>=2.1 in /usr/local/lib/python3.7/dist-packages (from matplotlib) (2.8.2)\n",
            "Requirement already satisfied: pyparsing!=2.0.4,!=2.1.2,!=2.1.6,>=2.0.1 in /usr/local/lib/python3.7/dist-packages (from matplotlib) (3.0.9)\n",
            "Requirement already satisfied: kiwisolver>=1.0.1 in /usr/local/lib/python3.7/dist-packages (from matplotlib) (1.4.2)\n",
            "Requirement already satisfied: typing-extensions in /usr/local/lib/python3.7/dist-packages (from kiwisolver>=1.0.1->matplotlib) (4.2.0)\n",
            "Requirement already satisfied: six>=1.5 in /usr/local/lib/python3.7/dist-packages (from python-dateutil>=2.1->matplotlib) (1.15.0)\n",
            "Requirement already satisfied: tqdm in /usr/local/lib/python3.7/dist-packages (4.64.0)\n",
            "Collecting image\n",
            "  Downloading image-1.5.33.tar.gz (15 kB)\n",
            "Requirement already satisfied: pillow in /usr/local/lib/python3.7/dist-packages (from image) (7.1.2)\n",
            "Collecting django\n",
            "  Downloading Django-3.2.13-py3-none-any.whl (7.9 MB)\n",
            "\u001b[K     |████████████████████████████████| 7.9 MB 5.3 MB/s \n",
            "\u001b[?25hRequirement already satisfied: six in /usr/local/lib/python3.7/dist-packages (from image) (1.15.0)\n",
            "Requirement already satisfied: pytz in /usr/local/lib/python3.7/dist-packages (from django->image) (2022.1)\n",
            "Collecting asgiref<4,>=3.3.2\n",
            "  Downloading asgiref-3.5.2-py3-none-any.whl (22 kB)\n",
            "Requirement already satisfied: sqlparse>=0.2.2 in /usr/local/lib/python3.7/dist-packages (from django->image) (0.4.2)\n",
            "Requirement already satisfied: typing-extensions in /usr/local/lib/python3.7/dist-packages (from asgiref<4,>=3.3.2->django->image) (4.2.0)\n",
            "Building wheels for collected packages: image\n",
            "  Building wheel for image (setup.py) ... \u001b[?25l\u001b[?25hdone\n",
            "  Created wheel for image: filename=image-1.5.33-py2.py3-none-any.whl size=19496 sha256=1bffe7f5ea1aba37c0717187fdb1918539ccbce749bf2367f190e5418cd601e4\n",
            "  Stored in directory: /root/.cache/pip/wheels/56/88/e6/897194cfe8c08a8b9afd881d3bf53d102e13fa39607d721383\n",
            "Successfully built image\n",
            "Installing collected packages: asgiref, django, image\n",
            "Successfully installed asgiref-3.5.2 django-3.2.13 image-1.5.33\n",
            "Requirement already satisfied: natsort in /usr/local/lib/python3.7/dist-packages (5.5.0)\n"
          ]
        }
      ],
      "source": [
        "!pip install opencv-python\n",
        "!pip install np\n",
        "!pip install matplotlib\n",
        "!pip install tqdm\n",
        "!pip install image\n",
        "!pip install natsort"
      ]
    },
    {
      "cell_type": "code",
      "source": [
        "!pip3 install firebase-admin"
      ],
      "metadata": {
        "colab": {
          "base_uri": "https://localhost:8080/"
        },
        "id": "u4BmUSn8jYXZ",
        "outputId": "5652fc26-5ec4-498f-ace0-91599a9a6a9f"
      },
      "id": "u4BmUSn8jYXZ",
      "execution_count": null,
      "outputs": [
        {
          "output_type": "stream",
          "name": "stdout",
          "text": [
            "Looking in indexes: https://pypi.org/simple, https://us-python.pkg.dev/colab-wheels/public/simple/\n",
            "Requirement already satisfied: firebase-admin in /usr/local/lib/python3.7/dist-packages (4.4.0)\n",
            "Requirement already satisfied: cachecontrol>=0.12.6 in /usr/local/lib/python3.7/dist-packages (from firebase-admin) (0.12.11)\n",
            "Requirement already satisfied: google-api-python-client>=1.7.8 in /usr/local/lib/python3.7/dist-packages (from firebase-admin) (1.12.11)\n",
            "Requirement already satisfied: google-api-core[grpc]<2.0.0dev,>=1.14.0 in /usr/local/lib/python3.7/dist-packages (from firebase-admin) (1.31.5)\n",
            "Requirement already satisfied: google-cloud-storage>=1.18.0 in /usr/local/lib/python3.7/dist-packages (from firebase-admin) (1.18.1)\n",
            "Requirement already satisfied: google-cloud-firestore>=1.4.0 in /usr/local/lib/python3.7/dist-packages (from firebase-admin) (1.7.0)\n",
            "Requirement already satisfied: requests in /usr/local/lib/python3.7/dist-packages (from cachecontrol>=0.12.6->firebase-admin) (2.23.0)\n",
            "Requirement already satisfied: msgpack>=0.5.2 in /usr/local/lib/python3.7/dist-packages (from cachecontrol>=0.12.6->firebase-admin) (1.0.3)\n",
            "Requirement already satisfied: google-auth<2.0dev,>=1.25.0 in /usr/local/lib/python3.7/dist-packages (from google-api-core[grpc]<2.0.0dev,>=1.14.0->firebase-admin) (1.35.0)\n",
            "Requirement already satisfied: packaging>=14.3 in /usr/local/lib/python3.7/dist-packages (from google-api-core[grpc]<2.0.0dev,>=1.14.0->firebase-admin) (21.3)\n",
            "Requirement already satisfied: protobuf>=3.12.0 in /usr/local/lib/python3.7/dist-packages (from google-api-core[grpc]<2.0.0dev,>=1.14.0->firebase-admin) (3.17.3)\n",
            "Requirement already satisfied: six>=1.13.0 in /usr/local/lib/python3.7/dist-packages (from google-api-core[grpc]<2.0.0dev,>=1.14.0->firebase-admin) (1.15.0)\n",
            "Requirement already satisfied: pytz in /usr/local/lib/python3.7/dist-packages (from google-api-core[grpc]<2.0.0dev,>=1.14.0->firebase-admin) (2022.1)\n",
            "Requirement already satisfied: setuptools>=40.3.0 in /usr/local/lib/python3.7/dist-packages (from google-api-core[grpc]<2.0.0dev,>=1.14.0->firebase-admin) (57.4.0)\n",
            "Requirement already satisfied: googleapis-common-protos<2.0dev,>=1.6.0 in /usr/local/lib/python3.7/dist-packages (from google-api-core[grpc]<2.0.0dev,>=1.14.0->firebase-admin) (1.56.1)\n",
            "Requirement already satisfied: grpcio<2.0dev,>=1.29.0 in /usr/local/lib/python3.7/dist-packages (from google-api-core[grpc]<2.0.0dev,>=1.14.0->firebase-admin) (1.46.1)\n",
            "Requirement already satisfied: httplib2<1dev,>=0.15.0 in /usr/local/lib/python3.7/dist-packages (from google-api-python-client>=1.7.8->firebase-admin) (0.17.4)\n",
            "Requirement already satisfied: google-auth-httplib2>=0.0.3 in /usr/local/lib/python3.7/dist-packages (from google-api-python-client>=1.7.8->firebase-admin) (0.0.4)\n",
            "Requirement already satisfied: uritemplate<4dev,>=3.0.0 in /usr/local/lib/python3.7/dist-packages (from google-api-python-client>=1.7.8->firebase-admin) (3.0.1)\n",
            "Requirement already satisfied: pyasn1-modules>=0.2.1 in /usr/local/lib/python3.7/dist-packages (from google-auth<2.0dev,>=1.25.0->google-api-core[grpc]<2.0.0dev,>=1.14.0->firebase-admin) (0.2.8)\n",
            "Requirement already satisfied: cachetools<5.0,>=2.0.0 in /usr/local/lib/python3.7/dist-packages (from google-auth<2.0dev,>=1.25.0->google-api-core[grpc]<2.0.0dev,>=1.14.0->firebase-admin) (4.2.4)\n",
            "Requirement already satisfied: rsa<5,>=3.1.4 in /usr/local/lib/python3.7/dist-packages (from google-auth<2.0dev,>=1.25.0->google-api-core[grpc]<2.0.0dev,>=1.14.0->firebase-admin) (4.8)\n",
            "Requirement already satisfied: google-cloud-core<2.0dev,>=1.0.3 in /usr/local/lib/python3.7/dist-packages (from google-cloud-firestore>=1.4.0->firebase-admin) (1.0.3)\n",
            "Requirement already satisfied: google-resumable-media<0.5.0dev,>=0.3.1 in /usr/local/lib/python3.7/dist-packages (from google-cloud-storage>=1.18.0->firebase-admin) (0.4.1)\n",
            "Requirement already satisfied: pyparsing!=3.0.5,>=2.0.2 in /usr/local/lib/python3.7/dist-packages (from packaging>=14.3->google-api-core[grpc]<2.0.0dev,>=1.14.0->firebase-admin) (3.0.9)\n",
            "Requirement already satisfied: pyasn1<0.5.0,>=0.4.6 in /usr/local/lib/python3.7/dist-packages (from pyasn1-modules>=0.2.1->google-auth<2.0dev,>=1.25.0->google-api-core[grpc]<2.0.0dev,>=1.14.0->firebase-admin) (0.4.8)\n",
            "Requirement already satisfied: urllib3!=1.25.0,!=1.25.1,<1.26,>=1.21.1 in /usr/local/lib/python3.7/dist-packages (from requests->cachecontrol>=0.12.6->firebase-admin) (1.24.3)\n",
            "Requirement already satisfied: certifi>=2017.4.17 in /usr/local/lib/python3.7/dist-packages (from requests->cachecontrol>=0.12.6->firebase-admin) (2022.5.18.1)\n",
            "Requirement already satisfied: idna<3,>=2.5 in /usr/local/lib/python3.7/dist-packages (from requests->cachecontrol>=0.12.6->firebase-admin) (2.10)\n",
            "Requirement already satisfied: chardet<4,>=3.0.2 in /usr/local/lib/python3.7/dist-packages (from requests->cachecontrol>=0.12.6->firebase-admin) (3.0.4)\n"
          ]
        }
      ]
    },
    {
      "cell_type": "markdown",
      "id": "66a149dd",
      "metadata": {
        "id": "66a149dd"
      },
      "source": [
        "### 모듈 import"
      ]
    },
    {
      "cell_type": "code",
      "execution_count": null,
      "id": "b6b031f5",
      "metadata": {
        "id": "b6b031f5"
      },
      "outputs": [],
      "source": [
        "import os\n",
        "import pickle\n",
        "import cv2\n",
        "import numpy as np\n",
        "import natsort\n",
        "from matplotlib import pyplot as plt\n",
        "from tqdm import tqdm\n",
        "from PIL import Image"
      ]
    },
    {
      "cell_type": "markdown",
      "id": "9efc3330",
      "metadata": {
        "id": "9efc3330"
      },
      "source": [
        "### 경로 설정"
      ]
    },
    {
      "cell_type": "code",
      "execution_count": null,
      "id": "34fe317e",
      "metadata": {
        "id": "34fe317e"
      },
      "outputs": [],
      "source": [
        "images_dir_path = os.path.join(os.getcwd(), '/content/C:/Users/LeeYuho/Desktop/video/test')\n",
        "videofilepath = '/content/C:/Users/LeeYuho/Desktop/video/test.mov'"
      ]
    },
    {
      "cell_type": "markdown",
      "id": "ce299385",
      "metadata": {
        "id": "ce299385"
      },
      "source": [
        "### 비디오 정보 출력"
      ]
    },
    {
      "cell_type": "code",
      "execution_count": null,
      "id": "57d687cd",
      "metadata": {
        "colab": {
          "base_uri": "https://localhost:8080/"
        },
        "id": "57d687cd",
        "outputId": "c91e15c5-86c9-41b3-95c9-d24dbd09b6fe"
      },
      "outputs": [
        {
          "output_type": "stream",
          "name": "stdout",
          "text": [
            "length : 332\n",
            "width : 568\n",
            "height : 320\n",
            "fps : 29.97742663656885\n"
          ]
        }
      ],
      "source": [
        "video = cv2.VideoCapture(videofilepath)\n",
        "if not video.isOpened():\n",
        "    print(\"Could not Open :\", videofilepath)\n",
        "    exit(0)\n",
        "\n",
        "#불러온 비디오 파일의 정보 출력\n",
        "length = int(video.get(cv2.CAP_PROP_FRAME_COUNT))\n",
        "width = int(video.get(cv2.CAP_PROP_FRAME_WIDTH))\n",
        "height = int(video.get(cv2.CAP_PROP_FRAME_HEIGHT))\n",
        "fps = video.get(cv2.CAP_PROP_FPS)\n",
        "\n",
        "print(\"length :\", length)\n",
        "print(\"width :\", width)\n",
        "print(\"height :\", height)\n",
        "print(\"fps :\", fps)    \n",
        "\n",
        "try:\n",
        "    if not os.path.exists(videofilepath[:-4]):\n",
        "        os.makedirs(videofilepath[:-4])\n",
        "except OSError:\n",
        "    print ('Error: Creating directory. ' +  videofilepath[:-4])\n"
      ]
    },
    {
      "cell_type": "markdown",
      "id": "3aae44d6",
      "metadata": {
        "id": "3aae44d6"
      },
      "source": [
        "### 비디오 프레임 이미지 분할"
      ]
    },
    {
      "cell_type": "code",
      "execution_count": null,
      "id": "a31d176c",
      "metadata": {
        "colab": {
          "base_uri": "https://localhost:8080/",
          "height": 471
        },
        "id": "a31d176c",
        "outputId": "a5e0329f-6fef-4f6a-ea69-653f4a8e6de6"
      },
      "outputs": [
        {
          "output_type": "stream",
          "name": "stdout",
          "text": [
            "Saved frame number : 30\n",
            "Saved frame number : 60\n",
            "Saved frame number : 90\n",
            "Saved frame number : 120\n",
            "Saved frame number : 150\n",
            "Saved frame number : 180\n",
            "Saved frame number : 210\n",
            "Saved frame number : 240\n",
            "Saved frame number : 270\n",
            "Saved frame number : 300\n",
            "Saved frame number : 330\n"
          ]
        },
        {
          "output_type": "error",
          "ename": "KeyboardInterrupt",
          "evalue": "ignored",
          "traceback": [
            "\u001b[0;31m---------------------------------------------------------------------------\u001b[0m",
            "\u001b[0;31mKeyboardInterrupt\u001b[0m                         Traceback (most recent call last)",
            "\u001b[0;32m<ipython-input-4-72c704f88685>\u001b[0m in \u001b[0;36m<module>\u001b[0;34m()\u001b[0m\n\u001b[1;32m      1\u001b[0m \u001b[0mcount\u001b[0m \u001b[0;34m=\u001b[0m \u001b[0;36m0\u001b[0m\u001b[0;34m\u001b[0m\u001b[0;34m\u001b[0m\u001b[0m\n\u001b[1;32m      2\u001b[0m \u001b[0;32mwhile\u001b[0m\u001b[0;34m(\u001b[0m\u001b[0mvideo\u001b[0m\u001b[0;34m.\u001b[0m\u001b[0misOpened\u001b[0m\u001b[0;34m(\u001b[0m\u001b[0;34m)\u001b[0m\u001b[0;34m)\u001b[0m\u001b[0;34m:\u001b[0m\u001b[0;34m\u001b[0m\u001b[0;34m\u001b[0m\u001b[0m\n\u001b[0;32m----> 3\u001b[0;31m     \u001b[0mret\u001b[0m\u001b[0;34m,\u001b[0m \u001b[0mimage\u001b[0m \u001b[0;34m=\u001b[0m \u001b[0mvideo\u001b[0m\u001b[0;34m.\u001b[0m\u001b[0mread\u001b[0m\u001b[0;34m(\u001b[0m\u001b[0;34m)\u001b[0m\u001b[0;34m\u001b[0m\u001b[0;34m\u001b[0m\u001b[0m\n\u001b[0m\u001b[1;32m      4\u001b[0m     \u001b[0;32mif\u001b[0m\u001b[0;34m(\u001b[0m\u001b[0mint\u001b[0m\u001b[0;34m(\u001b[0m\u001b[0mvideo\u001b[0m\u001b[0;34m.\u001b[0m\u001b[0mget\u001b[0m\u001b[0;34m(\u001b[0m\u001b[0;36m1\u001b[0m\u001b[0;34m)\u001b[0m\u001b[0;34m)\u001b[0m \u001b[0;34m%\u001b[0m \u001b[0;36m30\u001b[0m \u001b[0;34m==\u001b[0m \u001b[0;36m0\u001b[0m\u001b[0;34m)\u001b[0m\u001b[0;34m:\u001b[0m \u001b[0;31m#앞서 불러온 fps 값을 사용하여 1초마다 추출\u001b[0m\u001b[0;34m\u001b[0m\u001b[0;34m\u001b[0m\u001b[0m\n\u001b[1;32m      5\u001b[0m         \u001b[0mcv2\u001b[0m\u001b[0;34m.\u001b[0m\u001b[0mimwrite\u001b[0m\u001b[0;34m(\u001b[0m\u001b[0mvideofilepath\u001b[0m\u001b[0;34m[\u001b[0m\u001b[0;34m:\u001b[0m\u001b[0;34m-\u001b[0m\u001b[0;36m4\u001b[0m\u001b[0;34m]\u001b[0m \u001b[0;34m+\u001b[0m \u001b[0;34m\"/frame%d.jpg\"\u001b[0m \u001b[0;34m%\u001b[0m \u001b[0mcount\u001b[0m\u001b[0;34m,\u001b[0m \u001b[0mimage\u001b[0m\u001b[0;34m)\u001b[0m\u001b[0;34m\u001b[0m\u001b[0;34m\u001b[0m\u001b[0m\n",
            "\u001b[0;31mKeyboardInterrupt\u001b[0m: "
          ]
        }
      ],
      "source": [
        "count = 0\n",
        "while(video.isOpened()):\n",
        "    ret, image = video.read()\n",
        "    if(int(video.get(1)) % 30 == 0): #앞서 불러온 fps 값을 사용하여 1초마다 추출\n",
        "        cv2.imwrite(videofilepath[:-4] + \"/frame%d.jpg\" % count, image)\n",
        "        print('Saved frame number :', str(int(video.get(1))))\n",
        "        count += 1"
      ]
    },
    {
      "cell_type": "markdown",
      "id": "43cb6ac3",
      "metadata": {
        "id": "43cb6ac3"
      },
      "source": [
        "### 히스토그램 그리기"
      ]
    },
    {
      "cell_type": "code",
      "execution_count": null,
      "id": "5ec7e4dc",
      "metadata": {
        "id": "5ec7e4dc"
      },
      "outputs": [],
      "source": [
        "def draw_color_histogram_from_image(file_name, image):\n",
        "  print(image)\n",
        "  # Image 시각화\n",
        "  f=plt.figure(figsize=(10,3))\n",
        "  im1 = f.add_subplot(1,2,1)\n",
        "  im1.grid(False)\n",
        "  im1.imshow(image)\n",
        "  im1.set_title(filename)\n",
        "\n",
        "  # Histogram 시각화\n",
        "  im2 = f.add_subplot(1,2,2)\n",
        "\n",
        "  histr = cv2.calcHist([image],[0],None,[256],[0,256])\n",
        "  im2.plot(histr,color = 'k')\n",
        "\n",
        "  im2.grid(True)\n",
        "  im2.set_title(file_name + \"Histogram\")"
      ]
    },
    {
      "cell_type": "markdown",
      "id": "bc3a5427",
      "metadata": {
        "id": "bc3a5427"
      },
      "source": [
        "### 히스토그램 추출"
      ]
    },
    {
      "cell_type": "code",
      "execution_count": null,
      "id": "dfaae80e",
      "metadata": {
        "id": "dfaae80e"
      },
      "outputs": [],
      "source": [
        "def get_histogram(image):\n",
        "    histogram = []\n",
        "\n",
        "    # Create histograms per channels, in 4 bins each.\n",
        "    \n",
        "    channel_histogram = cv2.calcHist(images=[image],\n",
        "                                     channels=[0],\n",
        "                                     mask=None,\n",
        "                                     histSize=[4],  # 히스토그램 구간을 4개로 한다.\n",
        "                                     ranges=[0, 256])\n",
        "    histogram.append(channel_histogram)\n",
        "\n",
        "    histogram = np.concatenate(histogram)\n",
        "    histogram = cv2.normalize(histogram, histogram)\n",
        "\n",
        "    return histogram"
      ]
    },
    {
      "cell_type": "markdown",
      "id": "7db59348",
      "metadata": {
        "id": "7db59348"
      },
      "source": [
        "### 파일 불러오기 및 정렬"
      ]
    },
    {
      "cell_type": "code",
      "execution_count": null,
      "id": "cf65ab56",
      "metadata": {
        "id": "cf65ab56",
        "outputId": "e3895075-3fa3-4179-9a85-4531695b1806",
        "colab": {
          "base_uri": "https://localhost:8080/"
        }
      },
      "outputs": [
        {
          "output_type": "stream",
          "name": "stdout",
          "text": [
            "['frame0.jpg', 'frame1.jpg', 'frame2.jpg', 'frame3.jpg', 'frame4.jpg', 'frame5.jpg', 'frame6.jpg', 'frame7.jpg', 'frame8.jpg', 'frame9.jpg', 'frame10.jpg']\n"
          ]
        }
      ],
      "source": [
        "filenameList = natsort.natsorted(os.listdir(images_dir_path))\n",
        "print(filenameList)"
      ]
    },
    {
      "cell_type": "markdown",
      "id": "ee34db76",
      "metadata": {
        "id": "ee34db76"
      },
      "source": [
        "### 이미지 크롭"
      ]
    },
    {
      "cell_type": "code",
      "execution_count": null,
      "id": "598ba4de",
      "metadata": {
        "id": "598ba4de"
      },
      "outputs": [],
      "source": [
        "def image_crop(image):\n",
        "  WIDTH_SCALE = 4\n",
        "  HEIGHT_SCALE = 4\n",
        "  width, height = image.shape\n",
        "  w = width // WIDTH_SCALE\n",
        "  h = height // HEIGHT_SCALE\n",
        "  \n",
        "  image_crop_list = []\n",
        "  v_crop_list = np.vsplit(image, HEIGHT_SCALE)\n",
        "  for v_crop in v_crop_list:\n",
        "    h_crop_list = np.hsplit(v_crop, WIDTH_SCALE)\n",
        "    for crop in h_crop_list:\n",
        "      image_crop_list.append(crop) \n",
        "    \n",
        "  return image_crop_list"
      ]
    },
    {
      "cell_type": "markdown",
      "id": "6b7cdd8d",
      "metadata": {
        "id": "6b7cdd8d"
      },
      "source": [
        "### 히스토그램 연산 실행"
      ]
    },
    {
      "cell_type": "code",
      "execution_count": null,
      "id": "5b1e7a99",
      "metadata": {
        "scrolled": true,
        "id": "5b1e7a99",
        "outputId": "69fc0141-0fd0-484b-b74a-c6b344a1920c",
        "colab": {
          "base_uri": "https://localhost:8080/"
        }
      },
      "outputs": [
        {
          "output_type": "stream",
          "name": "stdout",
          "text": [
            "prev <-> frame0.jpg\n",
            "\n",
            "0.000  0.000  0.000  0.000  \n",
            "0.000  0.000  0.000  0.000  \n",
            "0.000  0.000  0.000  0.000  \n",
            "0.000  0.000  0.000  0.000  \n",
            "-----------------------\n",
            "prev <-> frame1.jpg\n",
            "\n",
            "0.190  0.012  0.002  0.001  \n",
            "0.102  0.009  0.009  0.011  \n",
            "0.002  0.043  0.035  0.030  \n",
            "0.027  0.004  0.006  0.012  \n",
            "-----------------------\n",
            "prev <-> frame2.jpg\n",
            "\n",
            "0.037  0.009  0.002  0.014  \n",
            "0.043  0.007  0.005  0.008  \n",
            "0.000  0.041  0.017  0.001  \n",
            "0.014  0.000  0.001  0.015  \n",
            "-----------------------\n",
            "prev <-> frame3.jpg\n",
            "\n",
            "0.079  0.017  0.011  0.013  \n",
            "0.023  0.006  0.044  0.203  \n",
            "0.005  0.043  0.029  0.012  \n",
            "0.021  0.006  0.008  0.012  \n",
            "-----------------------\n",
            "prev <-> frame4.jpg\n",
            "\n",
            "0.020  0.028  0.004  0.001  \n",
            "0.017  0.001  0.003  0.072  \n",
            "0.003  0.062  0.024  0.067  \n",
            "0.105  0.035  0.022  0.029  \n",
            "-----------------------\n",
            "prev <-> frame5.jpg\n",
            "\n",
            "0.137  77.537  0.371  0.016  \n",
            "0.047  0.017  0.102  0.024  \n",
            "0.013  0.021  0.013  0.012  \n",
            "0.010  0.011  0.017  0.007  \n",
            "-----------------------\n",
            "prev <-> frame6.jpg\n",
            "\n",
            "0.002  0.800  0.451  0.004  \n",
            "0.012  5.570  0.354  0.055  \n",
            "0.336  0.223  0.140  0.025  \n",
            "0.040  0.100  0.008  0.164  \n",
            "-----------------------\n",
            "prev <-> frame7.jpg\n",
            "\n",
            "0.112  0.032  0.005  0.015  \n",
            "0.081  0.149  0.107  0.003  \n",
            "0.000  0.242  0.099  0.017  \n",
            "0.019  0.002  0.012  0.012  \n",
            "-----------------------\n",
            "prev <-> frame8.jpg\n",
            "\n",
            "0.002  0.008  0.005  0.110  \n",
            "0.001  0.403  0.361  0.011  \n",
            "0.107  0.121  0.051  0.135  \n",
            "0.005  0.355  0.045  0.090  \n",
            "-----------------------\n",
            "prev <-> frame9.jpg\n",
            "\n",
            "0.058  0.074  0.013  0.091  \n",
            "0.085  0.072  0.006  0.039  \n",
            "0.015  0.231  30.734  0.032  \n",
            "0.720  0.201  0.060  0.049  \n",
            "-----------------------\n",
            "prev <-> frame10.jpg\n",
            "\n",
            "0.001  0.002  0.030  0.136  \n",
            "0.002  0.012  0.001  0.071  \n",
            "0.209  0.159  0.025  0.011  \n",
            "3.073  0.124  0.019  0.106  \n",
            "-----------------------\n"
          ]
        }
      ],
      "source": [
        "WIDTH_SCALE = 4\n",
        "HEIGHT_SCALE = 4\n",
        "prev_img_str = None\n",
        "prev_histogram_list = []\n",
        "for filename in filenameList:\n",
        "  file_path = os.path.join(images_dir_path, filename)\n",
        "  image = cv2.imread(file_path, cv2.IMREAD_GRAYSCALE)\n",
        "  crop_list = image_crop(image)\n",
        "  histogram_list = []\n",
        "  distance = [0] * (WIDTH_SCALE * HEIGHT_SCALE)\n",
        "  for crop in crop_list:\n",
        "    crop = np.array(crop)\n",
        "    histogram = get_histogram(crop)\n",
        "    histogram_list.append(histogram)\n",
        "    curr_img_str = filename\n",
        "    # draw_color_histogram_from_image(filename, crop)\n",
        "  if len(prev_histogram_list) != 0:\n",
        "    for i in range(WIDTH_SCALE*HEIGHT_SCALE):\n",
        "      distance[i] = cv2.compareHist(H1=prev_histogram_list[i],\n",
        "                                    H2=histogram_list[i],\n",
        "                                    method=cv2.HISTCMP_CHISQR)\n",
        "  prev_histogram_list = histogram_list[:]\n",
        "  for i in range(WIDTH_SCALE*HEIGHT_SCALE):\n",
        "    if i == 0: print(\"prev <-> \" + filename)\n",
        "    if i%4 == 0: print()\n",
        "    print(\"%.3f\"%distance[i],end='  ')\n",
        "  print(\"\\n-----------------------\")\n",
        "\n",
        "\n",
        "  "
      ]
    },
    {
      "cell_type": "code",
      "execution_count": null,
      "id": "113c4f52",
      "metadata": {
        "id": "113c4f52",
        "colab": {
          "base_uri": "https://localhost:8080/"
        },
        "outputId": "8dfbf32d-037b-4c27-fdc9-79afd9afdd8e"
      },
      "outputs": [
        {
          "output_type": "stream",
          "name": "stdout",
          "text": [
            "length : 332\n",
            "width : 568\n",
            "height : 320\n",
            "fps : 29.97742663656885\n",
            "prev <-> frame0.jpg\n",
            "\n",
            "0.000  0.000  0.000  0.000  \n",
            "0.000  0.000  0.000  0.000  \n",
            "0.000  0.000  0.000  0.000  \n",
            "0.000  0.000  0.000  0.000  \n",
            "-----------------------\n",
            "prev <-> frame1.jpg\n",
            "\n",
            "0.190  0.012  0.002  0.001  \n",
            "0.102  0.009  0.009  0.011  \n",
            "0.002  0.043  0.035  0.030  \n",
            "0.027  0.004  0.006  0.012  \n",
            "-----------------------\n",
            "prev <-> frame2.jpg\n",
            "\n",
            "0.037  0.009  0.002  0.014  \n",
            "0.043  0.007  0.005  0.008  \n",
            "0.000  0.041  0.017  0.001  \n",
            "0.014  0.000  0.001  0.015  \n",
            "-----------------------\n",
            "prev <-> frame3.jpg\n",
            "\n",
            "0.079  0.017  0.011  0.013  \n",
            "0.023  0.006  0.044  0.203  \n",
            "0.005  0.043  0.029  0.012  \n",
            "0.021  0.006  0.008  0.012  \n",
            "-----------------------\n",
            "prev <-> frame4.jpg\n",
            "\n",
            "0.020  0.028  0.004  0.001  \n",
            "0.017  0.001  0.003  0.072  \n",
            "0.003  0.062  0.024  0.067  \n",
            "0.105  0.035  0.022  0.029  \n",
            "-----------------------\n",
            "prev <-> frame5.jpg\n",
            "\n",
            "0.137  77.537  0.371  0.016  \n",
            "0.047  0.017  0.102  0.024  \n",
            "0.013  0.021  0.013  0.012  \n",
            "0.010  0.011  0.017  0.007  \n",
            "-----------------------\n",
            "prev <-> frame6.jpg\n",
            "\n",
            "0.002  0.800  0.451  0.004  \n",
            "0.012  5.570  0.354  0.055  \n",
            "0.336  0.223  0.140  0.025  \n",
            "0.040  0.100  0.008  0.164  \n",
            "-----------------------\n",
            "prev <-> frame7.jpg\n",
            "\n",
            "0.112  0.032  0.005  0.015  \n",
            "0.081  0.149  0.107  0.003  \n",
            "0.000  0.242  0.099  0.017  \n",
            "0.019  0.002  0.012  0.012  \n",
            "-----------------------\n",
            "prev <-> frame8.jpg\n",
            "\n",
            "0.002  0.008  0.005  0.110  \n",
            "0.001  0.403  0.361  0.011  \n",
            "0.107  0.121  0.051  0.135  \n",
            "0.005  0.355  0.045  0.090  \n",
            "-----------------------\n",
            "prev <-> frame9.jpg\n",
            "\n",
            "0.058  0.074  0.013  0.091  \n",
            "0.085  0.072  0.006  0.039  \n",
            "0.015  0.231  30.734  0.032  \n",
            "0.720  0.201  0.060  0.049  \n",
            "-----------------------\n",
            "prev <-> frame10.jpg\n",
            "\n",
            "0.001  0.002  0.030  0.136  \n",
            "0.002  0.012  0.001  0.071  \n",
            "0.209  0.159  0.025  0.011  \n",
            "3.073  0.124  0.019  0.106  \n",
            "-----------------------\n"
          ]
        }
      ],
      "source": [
        "import os\n",
        "import pickle\n",
        "import cv2\n",
        "import numpy as np\n",
        "import natsort\n",
        "from matplotlib import pyplot as plt\n",
        "from tqdm import tqdm\n",
        "from PIL import Image\n",
        "\n",
        "\n",
        "images_dir_path = os.path.join(os.getcwd(), '/content/C:/Users/LeeYuho/Desktop/video/test')\n",
        "videofilepath = '/content/C:/Users/LeeYuho/Desktop/video/test.mov'\n",
        "\n",
        "video = cv2.VideoCapture(videofilepath)\n",
        "if not video.isOpened():\n",
        "    print(\"Could not Open :\", videofilepath)\n",
        "    exit(0)\n",
        "\n",
        "#불러온 비디오 파일의 정보 출력\n",
        "length = int(video.get(cv2.CAP_PROP_FRAME_COUNT))\n",
        "width = int(video.get(cv2.CAP_PROP_FRAME_WIDTH))\n",
        "height = int(video.get(cv2.CAP_PROP_FRAME_HEIGHT))\n",
        "fps = video.get(cv2.CAP_PROP_FPS)\n",
        "\n",
        "print(\"length :\", length)\n",
        "print(\"width :\", width)\n",
        "print(\"height :\", height)\n",
        "print(\"fps :\", fps)    \n",
        "\n",
        "try:\n",
        "    if not os.path.exists(videofilepath[:-4]):\n",
        "        os.makedirs(videofilepath[:-4])\n",
        "except OSError:\n",
        "    print ('Error: Creating directory. ' +  videofilepath[:-4])\n",
        "\n",
        "def draw_color_histogram_from_image(file_name, image):\n",
        "  print(image)\n",
        "  # Image 시각화\n",
        "  f=plt.figure(figsize=(10,3))\n",
        "  im1 = f.add_subplot(1,2,1)\n",
        "  im1.grid(False)\n",
        "  im1.imshow(image)\n",
        "  im1.set_title(filename)\n",
        "\n",
        "  # Histogram 시각화\n",
        "  im2 = f.add_subplot(1,2,2)\n",
        "\n",
        "  histr = cv2.calcHist([image],[0],None,[256],[0,256])\n",
        "  im2.plot(histr,color = 'k')\n",
        "\n",
        "  im2.grid(True)\n",
        "  im2.set_title(file_name + \"Histogram\")\n",
        "\n",
        "def get_histogram(image):\n",
        "    histogram = []\n",
        "\n",
        "    # Create histograms per channels, in 4 bins each.\n",
        "    \n",
        "    channel_histogram = cv2.calcHist(images=[image],\n",
        "                                     channels=[0],\n",
        "                                     mask=None,\n",
        "                                     histSize=[4],  # 히스토그램 구간을 4개로 한다.\n",
        "                                     ranges=[0, 256])\n",
        "    histogram.append(channel_histogram)\n",
        "\n",
        "    histogram = np.concatenate(histogram)\n",
        "    histogram = cv2.normalize(histogram, histogram)\n",
        "\n",
        "    return histogram\n",
        "\n",
        "def image_crop(image):\n",
        "  WIDTH_SCALE = 4\n",
        "  HEIGHT_SCALE = 4\n",
        "  width, height = image.shape\n",
        "  w = width // WIDTH_SCALE\n",
        "  h = height // HEIGHT_SCALE\n",
        "  \n",
        "  image_crop_list = []\n",
        "  v_crop_list = np.vsplit(image, HEIGHT_SCALE)\n",
        "  for v_crop in v_crop_list:\n",
        "    h_crop_list = np.hsplit(v_crop, WIDTH_SCALE)\n",
        "    for crop in h_crop_list:\n",
        "      image_crop_list.append(crop) \n",
        "    \n",
        "  return image_crop_list\n",
        "\n",
        "filenameList = natsort.natsorted(os.listdir(images_dir_path))\n",
        "WIDTH_SCALE = 4\n",
        "HEIGHT_SCALE = 4\n",
        "prev_img_str = None\n",
        "prev_histogram_list = []\n",
        "for filename in filenameList:\n",
        "  file_path = os.path.join(images_dir_path, filename)\n",
        "  image = cv2.imread(file_path, cv2.IMREAD_GRAYSCALE)\n",
        "  crop_list = image_crop(image)\n",
        "  histogram_list = []\n",
        "  distance = [0] * (WIDTH_SCALE * HEIGHT_SCALE)\n",
        "  for crop in crop_list:\n",
        "    crop = np.array(crop)\n",
        "    histogram = get_histogram(crop)\n",
        "    histogram_list.append(histogram)\n",
        "    curr_img_str = filename\n",
        "    # draw_color_histogram_from_image(filename, crop)\n",
        "  if len(prev_histogram_list) != 0:\n",
        "    for i in range(WIDTH_SCALE*HEIGHT_SCALE):\n",
        "      distance[i] = cv2.compareHist(H1=prev_histogram_list[i],\n",
        "                                    H2=histogram_list[i],\n",
        "                                    method=cv2.HISTCMP_CHISQR)\n",
        "  prev_histogram_list = histogram_list[:]\n",
        "  for i in range(WIDTH_SCALE*HEIGHT_SCALE):\n",
        "    if i == 0: print(\"prev <-> \" + filename)\n",
        "    if i%4 == 0: print()\n",
        "    print(\"%.3f\"%distance[i],end='  ')\n",
        "  print(\"\\n-----------------------\")\n",
        "\n",
        "\n",
        "  "
      ]
    },
    {
      "cell_type": "code",
      "source": [
        "from time import sleep\n",
        "from picamera import PiCamera\n",
        "import datetime\n",
        "import sys, os\n",
        "import requests\n",
        "import firebase_admin\n",
        "from firebase_admin import credentials\n",
        "from firebase_admin import storage\n",
        "from uuid import uuid4\n",
        "import schedule\n",
        "\n",
        "PROJECT_ID = \"tennisapp-be86b\"#자신의 project id\n",
        "\n",
        "if not firebase_admin._apps:\n",
        "  cred = credentials.Certificate(\"/content/ServiceAccountKey.json\")\n",
        "  default_app = firebase_admin.initialize_app(cred, {\n",
        "      #gs://smart-mirror-cf119.appspot.com\n",
        "      'storageBucket': f\"{PROJECT_ID}.appspot.com\"    \n",
        "  })\n",
        "  #버킷은 바이너리 객체의 상위 컨테이너이다. 버킷은 Storage에서 데이터를 보관하는 기본 컨테이너이다.\n",
        "  bucket = storage.bucket()#기본 버킷 사용\n",
        "\n",
        "def fileUpload(file):\n",
        "    blob = bucket.blob('/content/images/'+file)\n",
        "    #new token and metadata 설정\n",
        "    new_token = str(uuid4())\n",
        "    metadata = {\"firebaseStorageDownloadTokens\": new_token} #access token이 필요하다.\n",
        "    blob.metadata = metadata\n",
        "\n",
        "    #upload file\n",
        "    blob.upload_from_filename(filename='/content/images/'+file, content_type='image/jpeg')\n",
        "    print(blob.public_url)\n",
        "\n",
        "def execute_camera():\n",
        "    \n",
        "    #사진찍기\n",
        "    #중복없는 파일명 만들기\n",
        "    basename = \"smr\"\n",
        "    suffix = datetime.datetime.now().strftime(\"%Y%m%d_%H%M%S\") + '.jpg'\n",
        "    filename = \"_\".join([basename, suffix])\n",
        "\n",
        "    camera = PiCamera()\n",
        "    camera.resolution = (640, 480)\n",
        "    camera.start_preview()\n",
        "    #이미지에 텍스트를 새겨 넣자.\n",
        "    camera.annotate_text = \"Smart Mirror\"\n",
        "    camera.annotate_text_size = 20\n",
        "    sleep(5)\n",
        "    #사진을 찍어서 저장한다. 파일의 중복되지 않도록 날짜시간을 넣어서 만듬\n",
        "    camera.capture('/home/pi/python/captureImages/' + filename)\n",
        "    #사진 파일을 파이어베이스에 업로드 한다.\n",
        "    fileUpload(filename)\n",
        "    #로컬 하드의 사진을 삭제한다.\n",
        "    camera.stop_preview()\n",
        "    camera.close()\n",
        "\n",
        "#메모리 카드의 파일을 정리 해 주자.\n",
        "def clearAll():\n",
        "    #제대로 할려면 용량 체크 하고 먼저 촬영된 이미지 부터 지워야 할것 같지만 여기선 폴더안에 파일을 몽땅 지우자.\n",
        "    path = 'captureImages'\n",
        "    os.system('rm -rf %s/*' % path)\n",
        "\n",
        "fileUpload(\"bridge.jpeg\")\n",
        "\n",
        "# #30초 마다 실행\n",
        "# #schedule.every(10).seconds.do(execute_camera)\n",
        "# #10분에 한번씩 실행\n",
        "# schedule.every(10).minutes.do(execute_camera)\n",
        "# #매 시간 마다 실행\n",
        "# schedule.every().hour.do(clearAll)\n",
        "# #기타 정해진 시간에 실행/매주 월요일에 실행/매주 수요일 몇시에 실행 등의 옵션이 있다.\n",
        "\n",
        "\n",
        "# while True:\n",
        "#     schedule.run_pending()\n",
        "#     sleep(1)"
      ],
      "metadata": {
        "colab": {
          "base_uri": "https://localhost:8080/",
          "height": 394
        },
        "id": "Xk6QyuxKjtFy",
        "outputId": "52891623-457e-41fa-dc8f-4bd78fd3f8fc"
      },
      "id": "Xk6QyuxKjtFy",
      "execution_count": null,
      "outputs": [
        {
          "output_type": "error",
          "ename": "ModuleNotFoundError",
          "evalue": "ignored",
          "traceback": [
            "\u001b[0;31m---------------------------------------------------------------------------\u001b[0m",
            "\u001b[0;31mModuleNotFoundError\u001b[0m                       Traceback (most recent call last)",
            "\u001b[0;32m<ipython-input-27-8c392ef71264>\u001b[0m in \u001b[0;36m<module>\u001b[0;34m()\u001b[0m\n\u001b[1;32m      1\u001b[0m \u001b[0;32mfrom\u001b[0m \u001b[0mtime\u001b[0m \u001b[0;32mimport\u001b[0m \u001b[0msleep\u001b[0m\u001b[0;34m\u001b[0m\u001b[0;34m\u001b[0m\u001b[0m\n\u001b[0;32m----> 2\u001b[0;31m \u001b[0;32mfrom\u001b[0m \u001b[0mpicamera\u001b[0m \u001b[0;32mimport\u001b[0m \u001b[0mPiCamera\u001b[0m\u001b[0;34m\u001b[0m\u001b[0;34m\u001b[0m\u001b[0m\n\u001b[0m\u001b[1;32m      3\u001b[0m \u001b[0;32mimport\u001b[0m \u001b[0mdatetime\u001b[0m\u001b[0;34m\u001b[0m\u001b[0;34m\u001b[0m\u001b[0m\n\u001b[1;32m      4\u001b[0m \u001b[0;32mimport\u001b[0m \u001b[0msys\u001b[0m\u001b[0;34m,\u001b[0m \u001b[0mos\u001b[0m\u001b[0;34m\u001b[0m\u001b[0;34m\u001b[0m\u001b[0m\n\u001b[1;32m      5\u001b[0m \u001b[0;32mimport\u001b[0m \u001b[0mrequests\u001b[0m\u001b[0;34m\u001b[0m\u001b[0;34m\u001b[0m\u001b[0m\n",
            "\u001b[0;31mModuleNotFoundError\u001b[0m: No module named 'picamera'",
            "",
            "\u001b[0;31m---------------------------------------------------------------------------\u001b[0;32m\nNOTE: If your import is failing due to a missing package, you can\nmanually install dependencies using either !pip or !apt.\n\nTo view examples of installing some common dependencies, click the\n\"Open Examples\" button below.\n\u001b[0;31m---------------------------------------------------------------------------\u001b[0m\n"
          ],
          "errorDetails": {
            "actions": [
              {
                "action": "open_url",
                "actionText": "Open Examples",
                "url": "/notebooks/snippets/importing_libraries.ipynb"
              }
            ]
          }
        }
      ]
    },
    {
      "cell_type": "code",
      "source": [
        "!apt-get install python-picamera"
      ],
      "metadata": {
        "colab": {
          "base_uri": "https://localhost:8080/"
        },
        "id": "7QFy7QV7uWkP",
        "outputId": "0a60f64e-f62b-4b68-af3e-7777777de03f"
      },
      "id": "7QFy7QV7uWkP",
      "execution_count": null,
      "outputs": [
        {
          "output_type": "stream",
          "name": "stdout",
          "text": [
            "Reading package lists... Done\n",
            "Building dependency tree       \n",
            "Reading state information... Done\n",
            "E: Unable to locate package python-picamera\n"
          ]
        }
      ]
    }
  ],
  "metadata": {
    "kernelspec": {
      "display_name": "Python 3 (ipykernel)",
      "language": "python",
      "name": "python3"
    },
    "language_info": {
      "codemirror_mode": {
        "name": "ipython",
        "version": 3
      },
      "file_extension": ".py",
      "mimetype": "text/x-python",
      "name": "python",
      "nbconvert_exporter": "python",
      "pygments_lexer": "ipython3",
      "version": "3.9.7"
    },
    "colab": {
      "name": "Histogram.ipynb",
      "provenance": [],
      "collapsed_sections": []
    }
  },
  "nbformat": 4,
  "nbformat_minor": 5
}